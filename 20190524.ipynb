{
  "nbformat": 4,
  "nbformat_minor": 0,
  "metadata": {
    "colab": {
      "name": "20190524.ipynb",
      "version": "0.3.2",
      "provenance": [],
      "include_colab_link": true
    },
    "kernelspec": {
      "name": "python3",
      "display_name": "Python 3"
    }
  },
  "cells": [
    {
      "cell_type": "markdown",
      "metadata": {
        "id": "view-in-github",
        "colab_type": "text"
      },
      "source": [
        "<a href=\"https://colab.research.google.com/github/gabrieljr2001/cienciadacomputacao/blob/master/20190524.ipynb\" target=\"_parent\"><img src=\"https://colab.research.google.com/assets/colab-badge.svg\" alt=\"Open In Colab\"/></a>"
      ]
    },
    {
      "cell_type": "code",
      "metadata": {
        "id": "HmQlU17_suG9",
        "colab_type": "code",
        "outputId": "bed6e4a3-06e8-458b-b8ae-38f7dc1036f2",
        "colab": {
          "base_uri": "https://localhost:8080/",
          "height": 138
        }
      },
      "source": [
        "#20190524.ipynb\n",
        "lst_n   = []\n",
        "lst_s   = []\n",
        "lst_tx  = []\n",
        "  \n",
        "while True:\n",
        "  nome = input(\"qual o seu nome: \")\n",
        "  if nome == \"FIM\" :\n",
        "    break\n",
        "   \n",
        "  else: \n",
        "    lst_n.append(nome)\n",
        "    salario = int(input (\"informe  seu salario: \"))  \n",
        "    lst_s.append(salario)\n",
        "  \n",
        "    if salario <= 1000:\n",
        "      tx = 0\n",
        "      lst_tx.append(tx)\n",
        "    \n",
        "    elif 1000< salario and salario <= 3000:\n",
        "      tx = (salario * 0.15)\n",
        "      lst_tx.append(tx)\n",
        "  \n",
        "    else:\n",
        "      tx = (salario * 0.20)\n",
        "      lst_tx.append(tx)\n",
        "       \n",
        "    \n",
        "print(lst_n, lst_s, lst_tx)\n",
        "\n",
        "   \n",
        "  \n",
        "  "
      ],
      "execution_count": 0,
      "outputs": [
        {
          "output_type": "error",
          "ename": "SyntaxError",
          "evalue": "ignored",
          "traceback": [
            "\u001b[0;36m  File \u001b[0;32m\"<ipython-input-53-497588baf596>\"\u001b[0;36m, line \u001b[0;32m7\u001b[0m\n\u001b[0;31m    if nome == nome.upper \"FIM\":\u001b[0m\n\u001b[0m                              ^\u001b[0m\n\u001b[0;31mSyntaxError\u001b[0m\u001b[0;31m:\u001b[0m invalid syntax\n"
          ]
        }
      ]
    }
  ]
}